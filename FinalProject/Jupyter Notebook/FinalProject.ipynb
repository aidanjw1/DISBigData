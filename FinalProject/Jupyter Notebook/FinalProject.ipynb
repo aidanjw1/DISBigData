{
 "cells": [
  {
   "cell_type": "markdown",
   "metadata": {},
   "source": [
    "   # <center>Are the Lakers still as good as your dad says they are?<center>\n",
    " \n",
    "   \n"
   ]
  },
  {
   "cell_type": "markdown",
   "metadata": {},
   "source": [
    "## <center>A Sentiment Analysis of NBA teams<center>"
   ]
  },
  {
   "cell_type": "markdown",
   "metadata": {},
   "source": [
    "#### <center>By Chris Tordi, Aidan White, and Sam Nozaki<center>"
   ]
  },
  {
   "cell_type": "markdown",
   "metadata": {},
   "source": [
    "## Data Collection"
   ]
  },
  {
   "cell_type": "code",
   "execution_count": 4,
   "metadata": {},
   "outputs": [
    {
     "name": "stderr",
     "output_type": "stream",
     "text": [
      "/Users/aidanwhite/anaconda/lib/python2.7/site-packages/bs4/__init__.py:181: UserWarning: No parser was explicitly specified, so I'm using the best available HTML parser for this system (\"lxml\"). This usually isn't a problem, but if you run this code on another system, or in a different virtual environment, it may use a different parser and behave differently.\n",
      "\n",
      "The code that caused this warning is on line 174 of the file /Users/aidanwhite/anaconda/lib/python2.7/runpy.py. To get rid of this warning, change code that looks like this:\n",
      "\n",
      " BeautifulSoup(YOUR_MARKUP})\n",
      "\n",
      "to this:\n",
      "\n",
      " BeautifulSoup(YOUR_MARKUP, \"lxml\")\n",
      "\n",
      "  markup_type=markup_type))\n"
     ]
    }
   ],
   "source": [
    "import requests as rq\n",
    "import sys\n",
    "import string\n",
    "from bs4 import BeautifulSoup\n",
    "import re\n",
    "\n",
    "#The following code was used to scrape the history sections of each NBA team\n",
    "def get_history_text(team):\n",
    "    out = ''\n",
    "    url = \"https://en.wikipedia.org/wiki/{0}\".format(team)\n",
    "    html = rq.get(url).text\n",
    "    soup = BeautifulSoup(html)\n",
    "    history = soup.find_all('div', attrs={'id': 'mw-content-text'})\n",
    "    p = history[0].find_all('p')\n",
    "    for i in p:\n",
    "        i = str(i)\n",
    "        i = re.sub('<.*?>', '', i)\n",
    "        i = re.sub('\\[\\d.*?\\]', '', i)\n",
    "        out += ' ' + i\n",
    "    return out\n",
    "\n",
    "def main():\n",
    "    with open('./teams.txt', 'r') as f:\n",
    "        teams = f.read()\n",
    "    teams = teams.split('\\n')\n",
    "\n",
    "    for team in teams:\n",
    "        h = get_history_text(team)\n",
    "        with open('./history/{0}.txt'.format(team), 'w') as f:\n",
    "            f.write(h)\n",
    "main()\n"
   ]
  },
  {
   "cell_type": "code",
   "execution_count": 2,
   "metadata": {
    "collapsed": true
   },
   "outputs": [],
   "source": [
    "#The following code was used to gather Tweets from each NBA team over the course of a week"
   ]
  },
  {
   "cell_type": "code",
   "execution_count": null,
   "metadata": {
    "collapsed": true
   },
   "outputs": [],
   "source": [
    "import tweepy\n",
    "\n",
    "def get_tweets():\n",
    "    consumer_key = 'dv6NWGg4QT8rr979x81KLIsyI'\n",
    "    consumer_secret = 'nRVr5D48SWJhl491PRjMVCxpCUpnUdMPpbgWsDr920Dm6111vc'\n",
    "    access_token = '4855652441-2Ku9RhnqT24ZyjvtyiqrLWUVqbbjNZILhcynw9u'\n",
    "    access_token_secret = 'br2CEMNroCFKYPK8mckafFqhAiRXg6TwW2EhmZZC0riYT'\n",
    "\n",
    "    auth = tweepy.OAuthHandler(consumer_key, consumer_secret)\n",
    "    auth.set_access_token(access_token, access_token_secret)\n",
    "\n",
    "    api = tweepy.API(auth)\n",
    "\n",
    "    team_tweets = {'@Raptors':[], '@warriors':[], '@nuggets':[],\n",
    "                   '@okcthunder':[], '@PelicansNBA':[], '@dallasmavs':[],\n",
    "                   '@hornets':[], '@Lakers':[], '@nyknicks':[],\n",
    "                   '@Timberwolves':[], '@LAClippers':[], '@OrlandoMagic':[],\n",
    "                   '@Pacers':[], '@cavs':[], '@HoustonRockets':[],\n",
    "                   '@BrooklynNets':[], '@Suns':[], '@spurs':[], '@utahjazz':[],\n",
    "                   '@celtics':[], '@ATLHawks':[], '@DetroitPistons':[],\n",
    "                   '@chicagobulls':[], '@sixers':[], '@Bucks':[],\n",
    "                   '@WashWizards':[], '@MiamiHEAT':[], '@memgrizz':[],\n",
    "                   '@trailblazers':[], '@SacramentoKings':[]}\n",
    "\n",
    "    for team in team_tweets.keys():\n",
    "        f = open('./Tweets/' + team + '.txt', 'a')\n",
    "\n",
    "        for tweet in tweepy.Cursor(api.search, q=team, lang='en', count=100).items(300):\n",
    "            if not tweet.text[:2] == 'RT':\n",
    "                f.write(tweet.text.encode('utf-8') + '\\n')\n",
    "\n",
    "        f.close()"
   ]
  },
  {
   "cell_type": "code",
   "execution_count": 6,
   "metadata": {
    "collapsed": true
   },
   "outputs": [],
   "source": [
    "# The following code was used to hit IMB's ToneAnalyzer API to perform sentiment analysis\n",
    "import json\n",
    "from os.path import join, dirname\n",
    "from watson_developer_cloud import ToneAnalyzerV3\n",
    "\n",
    "\n",
    "\n",
    "tone_analyzer = ToneAnalyzerV3(\n",
    "\t  username='223089c9-beb4-4352-baae-02baf0d63031',\n",
    "\t  password='bAejcajOIsrR',\n",
    "\t  version='2017-09-26'\n",
    "\t)\n",
    "\n",
    "twitter_data = []\n",
    "\n",
    "\n",
    "def toneAnalyzer(text, team):\n",
    "\ttone = tone_analyzer.tone(text, tones='emotion',\n",
    "    content_type='text/plain')\n",
    "  \tprettyTone = json.dumps(tone, indent=2)\n",
    "  \ttoneList = tone['document_tone']['tones']\n",
    "  \ttonesToAdd = {}\n",
    "\n",
    "\n",
    "\tfor tone in toneList:\n",
    "\t\ttonesToAdd[tone['tone_name']] = tone['score']\n",
    "\n",
    "\ttweet_dict = {'Team': team, 'Tweet': text, 'Sentiment': tonesToAdd}\n",
    "\ttwitter_data.append(tweet_dict)\n",
    "\n",
    "\treturn tweet_dict"
   ]
  },
  {
   "cell_type": "code",
   "execution_count": 3,
   "metadata": {
    "collapsed": true
   },
   "outputs": [],
   "source": [
    "#The following code was used to gather Sentiment Data for Tweets"
   ]
  },
  {
   "cell_type": "code",
   "execution_count": null,
   "metadata": {
    "collapsed": true
   },
   "outputs": [],
   "source": [
    "from IBManalysis import toneAnalyzer\n",
    "import os\n",
    "import json\n",
    "\n",
    "tweet_data = []\n",
    "\n",
    "#Function calls IBM's Sentiment Analysis API and returns a list of Sentiment Scores\n",
    "# EX: Joy: .75, Anger: .8, Sadness: .2, Confidant: .5 ... \n",
    "def getSentiment():\n",
    "    count = 0\n",
    "    with open('./Tweets/@WashWizards.txt', 'r') as f:\n",
    "        content = f.readlines();\n",
    "        for line in content:\n",
    "            print(line)\n",
    "            try:\n",
    "                tweet_info = toneAnalyzer(line, \"@WashWizards\")\n",
    "            except:\n",
    "                pass\n",
    "\n",
    "            if (tweet_info['Sentiment']):\n",
    "                count += 1\n",
    "                #print tweet_info\n",
    "                tweet_data.append(tweet_info)\n",
    "    print(count)\n",
    "    appendJSON(tweet_data)\n",
    "\n",
    "#writes data to json file\n",
    "def writeJSON(tweet_data):\n",
    "    with open('./sentiment_data/tweet_data.json', 'w') as f:\n",
    "        json.dump(tweet_data, f)\n",
    "\n",
    "#adds new tweet data to existing tweet data currently in json file\n",
    "def appendJSON(tweet_data):\n",
    "    with open('./sentiment_data/tweet_data.json', 'r') as f:\n",
    "        data = json.load(f)\n",
    "\n",
    "    for tweet in tweet_data:\n",
    "        data.append(tweet)\n",
    "\n",
    "    writeJSON(data)"
   ]
  },
  {
   "cell_type": "markdown",
   "metadata": {},
   "source": [
    "## Sentiment Analysis"
   ]
  },
  {
   "cell_type": "code",
   "execution_count": 14,
   "metadata": {
    "collapsed": true
   },
   "outputs": [],
   "source": [
    "#The following code was used to find sentiment scores for Tweets and store those scores in a datastructure in a\n",
    "# JSON file"
   ]
  },
  {
   "cell_type": "code",
   "execution_count": null,
   "metadata": {
    "collapsed": true
   },
   "outputs": [],
   "source": []
  },
  {
   "cell_type": "code",
   "execution_count": 9,
   "metadata": {
    "collapsed": true
   },
   "outputs": [],
   "source": [
    "#The following code was used to find sentiment analysis scores for wikipedia articles and write them to a JSON file.\n",
    "import os\n",
    "import json\n",
    "\n",
    "team_data = {}\n",
    "out = []\n",
    "\n",
    "for name in os.listdir('./history/'):\n",
    "    sad = 0\n",
    "    joy = 0\n",
    "    with open('./history/' + name, 'r') as f:\n",
    "        hist = f.read()\n",
    "    # Perform sentiment analysis on fractions of the history text\n",
    "    # and sum the values for each team, for more accuracy than the whole text\n",
    "    frac = 6\n",
    "    for i in range(frac):\n",
    "        start = int((i / float(frac)) * len(hist))\n",
    "        end = int((i + 1) / float(frac) * len(hist))\n",
    "        try:\n",
    "            tones = toneAnalyzer(hist[start:end], name)\n",
    "        except:\n",
    "            continue\n",
    "        if 'Joy' in tones['Sentiment'].keys():\n",
    "            joy += tones['Sentiment']['Joy']\n",
    "        if 'Sadness' in tones['Sentiment'].keys():\n",
    "            sad += tones['Sentiment']['Sadness']\n",
    "    team_data = {}\n",
    "    team_data['team'] = name\n",
    "    team_data['joy'] = round(joy, 3)\n",
    "    team_data['sadness'] = round(sad, 3)\n",
    "    out.append(team_data)\n",
    "\n",
    "with open('./sentiment_data/history_sentiments.json', 'w') as f:\n",
    "    json.dump(out, f, indent=4, sort_keys=True)"
   ]
  },
  {
   "cell_type": "markdown",
   "metadata": {},
   "source": [
    "## NBA Historical Wikipedia Data Conclusions"
   ]
  },
  {
   "cell_type": "code",
   "execution_count": 11,
   "metadata": {},
   "outputs": [
    {
     "data": {
      "image/png": "[encoded data removed]",
      "text/plain": [
       "<matplotlib.figure.Figure at 0x112084090>"
      ]
     },
     "metadata": {},
     "output_type": "display_data"
    },
    {
     "data": {
      "image/png": "[encoded data removed]",
      "text/plain": [
       "<matplotlib.figure.Figure at 0x112c2edd0>"
      ]
     },
     "metadata": {},
     "output_type": "display_data"
    }
   ],
   "source": [
    "# Below is code used to plot the sentiment analysis scores for the Wikipedia articles\n",
    "from matplotlib import pyplot as plt\n",
    "import json\n",
    "import collections\n",
    "\n",
    "def load_sentiment_scores():\n",
    "    with open('./sentiment_data/history_sentiments.json', 'r') as f:\n",
    "        string = f.read()\n",
    "    sentiment_data = json.loads(string)\n",
    "    return sentiment_data\n",
    "\n",
    "def filename_to_name(filename):\n",
    "    filename = filename.replace('.txt', '')\n",
    "    filename = filename.replace('_', ' ')\n",
    "    l = filename.split(' ')\n",
    "    return l[-1]\n",
    "\n",
    "\n",
    "def PlotHistoryScore(sentiment):\n",
    "    data = load_sentiment_scores()\n",
    "    pairs = []\n",
    "    for team in data:\n",
    "        pairs.append((float(team[sentiment]), filename_to_name(team['team'])))\n",
    "    pairs.sort(reverse = True)\n",
    "    teams = [team[1]for team in pairs]\n",
    "    scores = [team[0] for team in pairs]\n",
    "    xs = [i + 0.1 for i, _ in enumerate(teams)]\n",
    "    plt.bar(xs, scores, .8)\n",
    "    plt.xticks([i + .1 for i, _ in enumerate(teams)], teams, rotation='vertical')\n",
    "    axes = plt.gca()\n",
    "    plt.title(sentiment.capitalize() + \" Scores\")\n",
    "    plt.xlabel('Team')\n",
    "    plt.ylabel('Score')\n",
    "    plt.show()\n",
    "\n",
    "def main():\n",
    "    PlotHistoryScore('joy')\n",
    "    PlotHistoryScore('sadness')\n",
    "\n",
    "main()"
   ]
  },
  {
   "cell_type": "code",
   "execution_count": 12,
   "metadata": {},
   "outputs": [
    {
     "name": "stdout",
     "output_type": "stream",
     "text": [
      "ATL\n",
      "BOS\n",
      "NJN\n",
      "CHA\n",
      "CHI\n",
      "CLE\n",
      "DAL\n",
      "DEN\n",
      "DET\n",
      "GSW\n",
      "HOU\n",
      "IND\n",
      "LAC\n",
      "LAL\n",
      "MEM\n",
      "MIA\n",
      "MIL\n",
      "MIN\n",
      "NOH\n",
      "NYK\n",
      "OKC\n",
      "ORL\n",
      "PHI\n",
      "PHO\n",
      "POR\n",
      "SAC\n",
      "SAS\n",
      "TOR\n",
      "UTA\n",
      "WAS\n"
     ]
    }
   ],
   "source": [
    "# The following code was used to scrape the historical records of the NBA teams, calculate a winning percentage \n",
    "# and write those win %'s to a JSON file.\n",
    "\n",
    "import requests as rq\n",
    "import json\n",
    "from bs4 import BeautifulSoup\n",
    "\n",
    "teams = ['ATL', 'BOS', 'NJN', 'CHA', 'CHI', 'CLE', 'DAL', 'DEN', 'DET', 'GSW', 'HOU',\n",
    "'IND', 'LAC', 'LAL', 'MEM', 'MIA', 'MIL', 'MIN', 'NOH', 'NYK', 'OKC', 'ORL', 'PHI',\n",
    "'PHO', 'POR', 'SAC', 'SAS', 'TOR', 'UTA', 'WAS']\n",
    "\n",
    "def get_html(team):\n",
    "    url = \"https://www.basketball-reference.com/teams/{0}/stats_basic_totals.html\".format(\n",
    "        team)\n",
    "    d = rq.get(url).text\n",
    "    return d\n",
    "\n",
    "def get_winning_pct(html, team):\n",
    "    wins = 0\n",
    "    losses = 0\n",
    "    soup = BeautifulSoup(html)\n",
    "    rows = soup.find_all('tr')\n",
    "    for row in rows:\n",
    "        try:\n",
    "            wins += int(row.find('td', attrs={'data-stat':'wins'}).text)\n",
    "            losses += int(row.find('td', attrs={'data-stat':'losses'}).text)\n",
    "        except:\n",
    "            continue\n",
    "    print team\n",
    "    return (float(wins)/ (wins + losses))\n",
    "\n",
    "\n",
    "def main():\n",
    "    winning_pct_data = {}\n",
    "    data = []\n",
    "    for team in teams:\n",
    "        html = get_html(team)\n",
    "        team_pct = get_winning_pct(html, team)\n",
    "        winning_pct_data[team_pct] = team\n",
    "\n",
    "    with open('./sentiment_data/winning_pcts.json', 'w') as f:\n",
    "        json.dump(winning_pct_data, f, indent=4, sort_keys=True)\n",
    "main()"
   ]
  },
  {
   "cell_type": "markdown",
   "metadata": {},
   "source": [
    "## NBA Current Tweet Data Conclusions"
   ]
  },
  {
   "cell_type": "code",
   "execution_count": 1,
   "metadata": {
    "collapsed": true
   },
   "outputs": [],
   "source": [
    "# The following blocks contain the code used to order the NBA teams based on the joy, sadness, and anger of their tweets."
   ]
  },
  {
   "cell_type": "code",
   "execution_count": 3,
   "metadata": {},
   "outputs": [],
   "source": [
    "import json\n",
    "\n",
    "# parse through JSON to get average sentiment data\n",
    "def average_sentiment(team, sentiment):\n",
    "    with open('./sentiment_data/tweet_data.json', 'r') as f:\n",
    "        data = json.load(f)\n",
    "\n",
    "    sentiment_sum = 0\n",
    "    tweet_count = 0\n",
    "    for tweet in data:\n",
    "        if (tweet['Team'] == team):\n",
    "            tweet_count += 1\n",
    "            if (tweet['Sentiment'].has_key(sentiment)):\n",
    "                sentiment_sum += tweet['Sentiment'][sentiment]\n",
    "\n",
    "    return 1.0 * sentiment_sum / tweet_count"
   ]
  },
  {
   "cell_type": "code",
   "execution_count": null,
   "metadata": {
    "collapsed": true
   },
   "outputs": [],
   "source": [
    "teams = {'@Raptors':{}, '@warriors':{}, '@nuggets':{}, '@okcthunder':{},\n",
    "         '@PelicansNBA':{}, '@dallasmavs':{}, '@hornets':{}, '@Lakers':{},\n",
    "         '@nyknicks':{}, '@Timberwolves':{}, '@LaClippers':{},\n",
    "         '@OrlandoMagic':{}, '@Pacers':{}, '@cavs':{}, '@HoustonRockets':{},\n",
    "         '@BrooklynNets':{}, '@Suns':{}, '@spurs':{}, '@utahjazz':{},\n",
    "         '@celtics':{}, '@ATLHawks':{}, '@DetroitPistons':{},\n",
    "         '@chicagobulls':{}, '@sixers':{}, '@Bucks':{}, '@WashWizards':{},\n",
    "         '@MiamiHEAT':{}, '@memgrizz':{}, '@trailblazers':{},\n",
    "         '@SacramentoKings':{}}\n",
    "\n",
    "joy_dict = {}\n",
    "sadness_dict = {}\n",
    "anger_dict = {}\n",
    "\n",
    "# populate dicts with sentiment values\n",
    "for team in teams.keys():\n",
    "    joy_dict[team] = average_sentiment(team, 'Joy')\n",
    "    sadness_dict[team] = average_sentiment(team, 'Sadness')\n",
    "    anger_dict[team] = average_sentiment(team, 'Anger')\n",
    "\n",
    "# sort dicts by value\n",
    "joy_ranking = sorted(joy_dict.items(), key=lambda x:x[1], reverse=True)\n",
    "sadness_ranking = sorted(sadness_dict.items(), key=lambda x:x[1], reverse=True)\n",
    "anger_ranking = sorted(anger_dict.items(), key=lambda x:x[1], reverse=True)\n",
    "\n",
    "# display results\n",
    "print \"Teams ranked by tweet joy:\"\n",
    "for team in joy_ranking:\n",
    "    print str(team[0]) + ' ' + str(team[1])\n",
    "print\n",
    "\n",
    "print \"Teams ranked by tweet sadness:\"\n",
    "for team in sadness_ranking:\n",
    "    print str(team[0]) + ' ' + str(team[1])\n",
    "print\n",
    "\n",
    "print \"Teams ranked by tweet anger:\"\n",
    "for team in anger_ranking:\n",
    "    print str(team[0]) + ' ' + str(team[1])\n"
   ]
  },
  {
   "cell_type": "markdown",
   "metadata": {},
   "source": [
    "## Can Tweet sentiments predict NBA standings"
   ]
  },
  {
   "cell_type": "code",
   "execution_count": 6,
   "metadata": {
    "collapsed": true
   },
   "outputs": [],
   "source": [
    "#The following is a set of ordered NBA rankings"
   ]
  },
  {
   "cell_type": "code",
   "execution_count": 10,
   "metadata": {
    "collapsed": true
   },
   "outputs": [],
   "source": [
    "NBA_Rankings = ['@celtics', '@HoustonRockets', '@warriors', '@cavs', '@Raptors', '@spurs', '@DetroitPistons',\n",
    "                  '@nuggets', '@sixers', '@Timberwolves', '@Bucks', '@trailblazers', '@WashWizards', '@Pacers',\n",
    "                  '@utahjazz', '@PelicansNBA', '@nyknicks', '@okcthunder', '@MiamiHEAT', '@hornets',\n",
    "                  '@OrlandoMagic', '@BrooklynNets', '@LaClippers', '@Lakers', '@memgrizz', '@dallasmavs', '@Suns', '@SacramentoKings',\n",
    "                  '@ATLHawks', '@chicagobulls']\n",
    "\n",
    "NBA_TopHalf = ['@celtics', '@HoustonRockets', '@warriors', '@cavs', '@Raptors', '@spurs', '@DetroitPistons',\n",
    "                  '@nuggets', '@sixers', '@Timberwolves', '@Bucks', '@trailblazers', '@WashWizards', '@Pacers',\n",
    "                  '@utahjazz']\n",
    "\n",
    "NBA_BottomHalf = ['@celtics', '@HoustonRockets', '@warriors', '@cavs', '@Raptors', '@spurs', '@DetroitPistons',\n",
    "                  '@nuggets']\n",
    "\n",
    "NBA_Top8 = ['@celtics', '@HoustonRockets', '@warriors', '@cavs', '@Raptors', '@spurs', '@DetroitPistons',\n",
    "                  '@nuggets']\n",
    "\n",
    "\n",
    "NBA_Top20 = ['@celtics', '@HoustonRockets', '@warriors', '@cavs', '@Raptors', '@spurs', '@DetroitPistons',\n",
    "                  '@nuggets', '@sixers', '@Timberwolves', '@Bucks', '@trailblazers', '@WashWizards', '@Pacers',\n",
    "                  '@utahjazz', '@PelicansNBA', '@nyknicks', '@okcthunder', '@MiamiHEAT', '@hornets']"
   ]
  },
  {
   "cell_type": "code",
   "execution_count": 9,
   "metadata": {
    "collapsed": true
   },
   "outputs": [],
   "source": [
    "#The following is a function used to open our json file with Tweet information and create an ordered list\n",
    "# of tuples containing NBA team and percentage of Tweets that contain a certain sentiment"
   ]
  },
  {
   "cell_type": "code",
   "execution_count": null,
   "metadata": {
    "collapsed": true
   },
   "outputs": [],
   "source": [
    "import os\n",
    "import json\n",
    "from matplotlib import pyplot as plt\n",
    "team_scores = []\n",
    "\n",
    "def sortData(sentiment):\n",
    "      with open('./sentiment_data/tweet_data.json', 'r') as f:\n",
    "            data = json.load(f)\n",
    "\n",
    "      for team in team_names:\n",
    "            totalJoy = 0\n",
    "            numJoy = 0\n",
    "            numTeamTweets = 0\n",
    "            for tweet in data:\n",
    "                  if (tweet['Team'] == team):\n",
    "                        numTeamTweets += 1\n",
    "                        if (tweet['Sentiment'].has_key(sentiment)):\n",
    "                              if (tweet['Sentiment'][sentiment]):\n",
    "                                    numJoy += 1\n",
    "            joyPercentage = (1.0 * numJoy / numTeamTweets)\n",
    "            tup = (team, joyPercentage)\n",
    "            team_scores.append(tup)\n",
    "\n",
    "      sorted_data = sorted(team_scores, key=lambda tup: tup[1], reverse=True)\n",
    "      Analyze(sentiment,sorted_data)"
   ]
  },
  {
   "cell_type": "code",
   "execution_count": 12,
   "metadata": {
    "collapsed": true
   },
   "outputs": [],
   "source": [
    "# The following code is a function that finds what percentage of teams in the top 20 most joyous \n",
    "# are also in the top 20 NBA teams by record\n",
    "# It was changed to fit the NBA grouping and sentiment we were testing for"
   ]
  },
  {
   "cell_type": "code",
   "execution_count": null,
   "metadata": {
    "collapsed": true
   },
   "outputs": [],
   "source": [
    "def Analyze(sentiment,sorted_data):\n",
    "      counter = 0\n",
    "      teams = [team[0] for team in sorted_data[:20]]\n",
    "      print (teams)\n",
    "      for team in teams:\n",
    "            if (team in NBA_Top20):\n",
    "                  counter += 1\n",
    "      print ((counter/20.0)*100)"
   ]
  },
  {
   "cell_type": "code",
   "execution_count": null,
   "metadata": {
    "collapsed": true
   },
   "outputs": [],
   "source": [
    "#The following code is a function that displays a histogram of all NBA teams current tweet 'Joy' sentiment scores \n",
    "# ordered from highest to lowest"
   ]
  },
  {
   "cell_type": "code",
   "execution_count": null,
   "metadata": {
    "collapsed": true
   },
   "outputs": [],
   "source": [
    "def PlotHistoryScore(sentiment, sorted_data):\n",
    "\n",
    "      teams = [team[0] for team in sorted_data]\n",
    "      scores = [team[1] for team in sorted_data]\n",
    "      xs = [i + 0.1 for i, _ in enumerate(teams)]\n",
    "      plt.bar(xs, scores, .8)\n",
    "      plt.xticks([i + .1 for i, _ in enumerate(teams)], teams, rotation='vertical')\n",
    "      axes = plt.gca()\n",
    "      plt.title(sentiment.capitalize() + \" Tweet Percentage Scores\")\n",
    "      plt.xlabel('Team')\n",
    "      plt.ylabel('Score')\n",
    "      plt.show()"
   ]
  }
 ],
 "metadata": {
  "kernelspec": {
   "display_name": "Python 2",
   "language": "python",
   "name": "python2"
  },
  "language_info": {
   "codemirror_mode": {
    "name": "ipython",
    "version": 2
   },
   "file_extension": ".py",
   "mimetype": "text/x-python",
   "name": "python",
   "nbconvert_exporter": "python",
   "pygments_lexer": "ipython2",
   "version": "2.7.13"
  }
 },
 "nbformat": 4,
 "nbformat_minor": 2
}
