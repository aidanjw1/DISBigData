{
 "cells": [
  {
   "cell_type": "markdown",
   "metadata": {},
   "source": [
    "   # <center>Are the Lakers still as good as your dad says they are?<center>\n",
    " \n",
    "   \n"
   ]
  },
  {
   "cell_type": "markdown",
   "metadata": {},
   "source": [
    "## <center>A Sentiment Analysis of NBA teams<center>"
   ]
  },
  {
   "cell_type": "markdown",
   "metadata": {},
   "source": [
    "#### <center>By Chris Tordi, Aidan White, and Sam Nozaki<center>"
   ]
  },
  {
   "cell_type": "markdown",
   "metadata": {},
   "source": [
    "## Data Collection"
   ]
  },
  {
   "cell_type": "code",
   "execution_count": 1,
   "metadata": {
    "collapsed": true
   },
   "outputs": [],
   "source": [
    "#The following code was used to scrape the history sections of each NBA team"
   ]
  },
  {
   "cell_type": "code",
   "execution_count": 2,
   "metadata": {
    "collapsed": true
   },
   "outputs": [],
   "source": [
    "#The following code was used to gather Tweets from each NBA team over the course of a week"
   ]
  },
  {
   "cell_type": "code",
   "execution_count": 3,
   "metadata": {
    "collapsed": true
   },
   "outputs": [],
   "source": [
    "#The following code was used to gather Sentiment Data for Tweets"
   ]
  },
  {
   "cell_type": "code",
   "execution_count": null,
   "metadata": {
    "collapsed": true
   },
   "outputs": [],
   "source": [
    "from IBManalysis import toneAnalyzer\n",
    "import os\n",
    "import json\n",
    "\n",
    "tweet_data = []\n",
    "\n",
    "#Function calls IBM's Sentiment Analysis API and returns a list of Sentiment Scores\n",
    "# EX: Joy: .75, Anger: .8, Sadness: .2, Confidant: .5 ... \n",
    "def getSentiment():\n",
    "    count = 0\n",
    "    with open('./Tweets/@WashWizards.txt', 'r') as f:\n",
    "        content = f.readlines();\n",
    "        for line in content:\n",
    "            print(line)\n",
    "            try:\n",
    "                tweet_info = toneAnalyzer(line, \"@WashWizards\")\n",
    "            except:\n",
    "                pass\n",
    "\n",
    "            if (tweet_info['Sentiment']):\n",
    "                count += 1\n",
    "                #print tweet_info\n",
    "                tweet_data.append(tweet_info)\n",
    "    print(count)\n",
    "    appendJSON(tweet_data)\n",
    "\n",
    "#writes data to json file\n",
    "def writeJSON(tweet_data):\n",
    "    with open('./sentiment_data/tweet_data.json', 'w') as f:\n",
    "        json.dump(tweet_data, f)\n",
    "\n",
    "#adds new tweet data to existing tweet data currently in json file\n",
    "def appendJSON(tweet_data):\n",
    "    with open('./sentiment_data/tweet_data.json', 'r') as f:\n",
    "        data = json.load(f)\n",
    "\n",
    "    for tweet in tweet_data:\n",
    "        data.append(tweet)\n",
    "\n",
    "    writeJSON(data)"
   ]
  },
  {
   "cell_type": "code",
   "execution_count": null,
   "metadata": {
    "collapsed": true
   },
   "outputs": [],
   "source": [
    "#The following code was used to gather and store sentiment data concerning wikipedia articles"
   ]
  },
  {
   "cell_type": "markdown",
   "metadata": {},
   "source": [
    "## Sentiment Analysis"
   ]
  },
  {
   "cell_type": "code",
   "execution_count": 14,
   "metadata": {
    "collapsed": true
   },
   "outputs": [],
   "source": [
    "#The following code was used to find sentiment scores for Tweets and store those scores in a datastructure in a\n",
    "# JSON file"
   ]
  },
  {
   "cell_type": "code",
   "execution_count": null,
   "metadata": {
    "collapsed": true
   },
   "outputs": [],
   "source": []
  },
  {
   "cell_type": "code",
   "execution_count": 5,
   "metadata": {
    "collapsed": true
   },
   "outputs": [],
   "source": [
    "#The following code was used to find sentiment analysis scores for wikipedia article sentences"
   ]
  },
  {
   "cell_type": "markdown",
   "metadata": {},
   "source": [
    "## NBA Historical Wikipedia Data Conclusions"
   ]
  },
  {
   "cell_type": "markdown",
   "metadata": {},
   "source": [
    "## NBA Current Tweet Data Conclusions"
   ]
  },
  {
   "cell_type": "markdown",
   "metadata": {},
   "source": [
    "## Can Tweet sentiments predict NBA standings"
   ]
  },
  {
   "cell_type": "code",
   "execution_count": 6,
   "metadata": {
    "collapsed": true
   },
   "outputs": [],
   "source": [
    "#The following is a set of ordered NBA rankings"
   ]
  },
  {
   "cell_type": "code",
   "execution_count": 10,
   "metadata": {
    "collapsed": true
   },
   "outputs": [],
   "source": [
    "NBA_Rankings = ['@celtics', '@HoustonRockets', '@warriors', '@cavs', '@Raptors', '@spurs', '@DetroitPistons',\n",
    "                  '@nuggets', '@sixers', '@Timberwolves', '@Bucks', '@trailblazers', '@WashWizards', '@Pacers',\n",
    "                  '@utahjazz', '@PelicansNBA', '@nyknicks', '@okcthunder', '@MiamiHEAT', '@hornets',\n",
    "                  '@OrlandoMagic', '@BrooklynNets', '@LaClippers', '@Lakers', '@memgrizz', '@dallasmavs', '@Suns', '@SacramentoKings',\n",
    "                  '@ATLHawks', '@chicagobulls']\n",
    "\n",
    "NBA_TopHalf = ['@celtics', '@HoustonRockets', '@warriors', '@cavs', '@Raptors', '@spurs', '@DetroitPistons',\n",
    "                  '@nuggets', '@sixers', '@Timberwolves', '@Bucks', '@trailblazers', '@WashWizards', '@Pacers',\n",
    "                  '@utahjazz']\n",
    "\n",
    "NBA_BottomHalf = ['@celtics', '@HoustonRockets', '@warriors', '@cavs', '@Raptors', '@spurs', '@DetroitPistons',\n",
    "                  '@nuggets']\n",
    "\n",
    "NBA_Top8 = ['@celtics', '@HoustonRockets', '@warriors', '@cavs', '@Raptors', '@spurs', '@DetroitPistons',\n",
    "                  '@nuggets']\n",
    "\n",
    "\n",
    "NBA_Top20 = ['@celtics', '@HoustonRockets', '@warriors', '@cavs', '@Raptors', '@spurs', '@DetroitPistons',\n",
    "                  '@nuggets', '@sixers', '@Timberwolves', '@Bucks', '@trailblazers', '@WashWizards', '@Pacers',\n",
    "                  '@utahjazz', '@PelicansNBA', '@nyknicks', '@okcthunder', '@MiamiHEAT', '@hornets']"
   ]
  },
  {
   "cell_type": "code",
   "execution_count": 9,
   "metadata": {
    "collapsed": true
   },
   "outputs": [],
   "source": [
    "#The following is a function used to open our json file with Tweet information and create an ordered list\n",
    "# of tuples containing NBA team and percentage of Tweets that contain a certain sentiment"
   ]
  },
  {
   "cell_type": "code",
   "execution_count": null,
   "metadata": {},
   "outputs": [],
   "source": [
    "import os\n",
    "import json\n",
    "from matplotlib import pyplot as plt\n",
    "team_scores = []\n",
    "\n",
    "def sortData(sentiment):\n",
    "      with open('./sentiment_data/tweet_data.json', 'r') as f:\n",
    "            data = json.load(f)\n",
    "\n",
    "      for team in team_names:\n",
    "            totalJoy = 0\n",
    "            numJoy = 0\n",
    "            numTeamTweets = 0\n",
    "            for tweet in data:\n",
    "                  if (tweet['Team'] == team):\n",
    "                        numTeamTweets += 1\n",
    "                        if (tweet['Sentiment'].has_key(sentiment)):\n",
    "                              if (tweet['Sentiment'][sentiment]):\n",
    "                                    numJoy += 1\n",
    "            joyPercentage = (1.0 * numJoy / numTeamTweets)\n",
    "            tup = (team, joyPercentage)\n",
    "            team_scores.append(tup)\n",
    "\n",
    "      sorted_data = sorted(team_scores, key=lambda tup: tup[1], reverse=True)\n",
    "      Analyze(sentiment,sorted_data)"
   ]
  },
  {
   "cell_type": "code",
   "execution_count": 12,
   "metadata": {
    "collapsed": true
   },
   "outputs": [],
   "source": [
    "# The following code is a function that finds what percentage of teams in the top 20 most joyous \n",
    "# are also in the top 20 NBA teams by record\n",
    "# It was changed to fit the NBA grouping and sentiment we were testing for"
   ]
  },
  {
   "cell_type": "code",
   "execution_count": null,
   "metadata": {
    "collapsed": true
   },
   "outputs": [],
   "source": [
    "def Analyze(sentiment,sorted_data):\n",
    "      counter = 0\n",
    "      teams = [team[0] for team in sorted_data[:20]]\n",
    "      print (teams)\n",
    "      for team in teams:\n",
    "            if (team in NBA_Top20):\n",
    "                  counter += 1\n",
    "      print ((counter/20.0)*100)"
   ]
  },
  {
   "cell_type": "code",
   "execution_count": null,
   "metadata": {
    "collapsed": true
   },
   "outputs": [],
   "source": [
    "#The following code is a function that displays a histogram of all NBA teams current tweet 'Joy' sentiment scores \n",
    "# ordered from highest to lowest"
   ]
  },
  {
   "cell_type": "code",
   "execution_count": null,
   "metadata": {
    "collapsed": true
   },
   "outputs": [],
   "source": [
    "def PlotHistoryScore(sentiment, sorted_data):\n",
    "\n",
    "      teams = [team[0] for team in sorted_data]\n",
    "      scores = [team[1] for team in sorted_data]\n",
    "      xs = [i + 0.1 for i, _ in enumerate(teams)]\n",
    "      plt.bar(xs, scores, .8)\n",
    "      plt.xticks([i + .1 for i, _ in enumerate(teams)], teams, rotation='vertical')\n",
    "      axes = plt.gca()\n",
    "      plt.title(sentiment.capitalize() + \" Tweet Percentage Scores\")\n",
    "      plt.xlabel('Team')\n",
    "      plt.ylabel('Score')\n",
    "      plt.show()"
   ]
  }
 ],
 "metadata": {
  "kernelspec": {
   "display_name": "Python 2",
   "language": "python",
   "name": "python2"
  },
  "language_info": {
   "codemirror_mode": {
    "name": "ipython",
    "version": 2
   },
   "file_extension": ".py",
   "mimetype": "text/x-python",
   "name": "python",
   "nbconvert_exporter": "python",
   "pygments_lexer": "ipython2",
   "version": "2.7.13"
  }
 },
 "nbformat": 4,
 "nbformat_minor": 2
}
